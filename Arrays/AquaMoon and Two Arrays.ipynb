{
 "metadata": {
  "language_info": {
   "codemirror_mode": {
    "name": "ipython",
    "version": 3
   },
   "file_extension": ".py",
   "mimetype": "text/x-python",
   "name": "python",
   "nbconvert_exporter": "python",
   "pygments_lexer": "ipython3",
   "version": "3.9.1"
  },
  "orig_nbformat": 2,
  "kernelspec": {
   "name": "python391jvsc74a57bd0139b16cfcad10c0042a5b41dcf13248c4ddf326caeb2d5fd4e51b32e25674947",
   "display_name": "Python 3.9.1 64-bit"
  }
 },
 "nbformat": 4,
 "nbformat_minor": 2,
 "cells": [
  {
   "source": [
    "AquaMoon and Cirno are playing an interesting game with arrays. Cirno has prepared two arrays a and b, both consist of n non-negative integers. AquaMoon can perform the following operation an arbitrary number of times (possibly zero):\n",
    "\n",
    "She chooses two indices i and j (1≤i,j≤n), then decreases the i-th element of array a by 1, and increases the j-th element of array a by 1. The resulting values at i-th and j-th index of array a are ai−1 and aj+1, respectively. Each element of array a must be non-negative after each operation. If i=j this operation doesn't change the array a.\n",
    "\n",
    "AquaMoon wants to make some operations to make arrays a and b equal. Two arrays a and b are considered equal if and only if ai=bi for all 1≤i≤n.\n",
    "\n",
    "Help AquaMoon to find a sequence of operations that will solve her problem or find, that it is impossible to make arrays a and b equal.\n",
    "\n",
    "Please note, that you don't have to minimize the number of operations.\n",
    "\n",
    "Input\n",
    "The input consists of multiple test cases. The first line contains a single integer t (1≤t≤100) — the number of test cases.\n",
    "\n",
    "The first line of each test case contains a single integer n (1≤n≤100).\n",
    "\n",
    "The second line of each test case contains n integers a1,a2,…,an (0≤ai≤100). The sum of all ai does not exceed 100.\n",
    "\n",
    "The third line of each test case contains n integers b1,b2,…,bn (0≤bi≤100). The sum of all bi does not exceed 100.\n",
    "\n",
    "Output\n",
    "For each test case print \"-1\" on the only line if it is impossible to make two arrays equal with some sequence of operations.\n",
    "\n",
    "Otherwise, print an integer m (0≤m≤100) in the first line — the number of operations. Then print m lines, each line consists of two integers i and j — the indices you choose for the operation.\n",
    "\n",
    "It can be proven that if it is possible to make two arrays equal with some sequence of operations, there exists a sequence with m≤100.\n",
    "\n",
    "If there are multiple possible solutions, you can print any."
   ],
   "cell_type": "markdown",
   "metadata": {}
  },
  {
   "cell_type": "code",
   "execution_count": null,
   "metadata": {},
   "outputs": [],
   "source": []
  }
 ]
}